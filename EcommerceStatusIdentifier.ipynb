{
  "cells": [
    {
      "cell_type": "code",
      "execution_count": 1,
      "id": "Iab036soa3un",
      "metadata": {
        "id": "Iab036soa3un"
      },
      "outputs": [],
      "source": [
        "from IPython.display import clear_output"
      ]
    },
    {
      "cell_type": "code",
      "execution_count": null,
      "id": "c717460b-f6cc-49fd-bbb5-cf82f3f72e8c",
      "metadata": {
        "colab": {
          "base_uri": "https://localhost:8080/"
        },
        "id": "c717460b-f6cc-49fd-bbb5-cf82f3f72e8c",
        "outputId": "1efd035a-97b5-47a9-9197-a98c070b37c8"
      },
      "outputs": [],
      "source": [
        "!pip install pandas numpy scikit-learn\n",
        "!pip install transformers\n",
        "!pip install lightgbm xgboost"
      ]
    },
    {
      "cell_type": "code",
      "execution_count": 3,
      "id": "1e8ff684-5e15-46d0-bf83-175778b62e8a",
      "metadata": {
        "id": "1e8ff684-5e15-46d0-bf83-175778b62e8a"
      },
      "outputs": [],
      "source": [
        "!pip install tensorflow"
      ]
    },
    {
      "cell_type": "code",
      "execution_count": 4,
      "id": "XPfExC_RNio0",
      "metadata": {
        "id": "XPfExC_RNio0"
      },
      "outputs": [],
      "source": [
        "import os\n",
        "import pandas as pd"
      ]
    },
    {
      "cell_type": "code",
      "execution_count": 5,
      "id": "513c8194",
      "metadata": {
        "id": "513c8194"
      },
      "outputs": [],
      "source": [
        "data = pd.read_json(\"technical_test_data.json\")"
      ]
    },
    {
      "cell_type": "markdown",
      "id": "Jfh3S4SAqDSN",
      "metadata": {
        "id": "Jfh3S4SAqDSN"
      },
      "source": [
        "## Data Analysis"
      ]
    },
    {
      "cell_type": "code",
      "execution_count": null,
      "id": "ebcb1f98",
      "metadata": {
        "colab": {
          "base_uri": "https://localhost:8080/"
        },
        "id": "ebcb1f98",
        "outputId": "56c6cb64-8172-40c2-ef52-3c24c78ce1be"
      },
      "outputs": [],
      "source": [
        "# find out the number of observations in the dataset\n",
        "data.shape"
      ]
    },
    {
      "cell_type": "code",
      "execution_count": null,
      "id": "09f08e18",
      "metadata": {
        "colab": {
          "base_uri": "https://localhost:8080/"
        },
        "id": "09f08e18",
        "outputId": "3c3d2b05-c123-48f9-aba7-49fdaa7dd7fe"
      },
      "outputs": [],
      "source": [
        "# find out the column names, if any na exists and the data type\n",
        "data.info()"
      ]
    },
    {
      "cell_type": "code",
      "execution_count": null,
      "id": "rU0He1NKqQU-",
      "metadata": {
        "colab": {
          "base_uri": "https://localhost:8080/",
          "height": 637
        },
        "id": "rU0He1NKqQU-",
        "outputId": "a5aa7efd-be1a-49a0-f5fe-2e700b35b02b"
      },
      "outputs": [],
      "source": [
        "#lets see some records\n",
        "data.head()"
      ]
    },
    {
      "cell_type": "code",
      "execution_count": null,
      "id": "RljbxyHTqW5X",
      "metadata": {
        "colab": {
          "base_uri": "https://localhost:8080/"
        },
        "id": "RljbxyHTqW5X",
        "outputId": "539ecbbc-2483-42c6-e1a1-0dfb7aa94e01"
      },
      "outputs": [],
      "source": [
        "data.tags.value_counts()"
      ]
    },
    {
      "cell_type": "code",
      "execution_count": null,
      "id": "xFCF-U_4psAu",
      "metadata": {
        "colab": {
          "base_uri": "https://localhost:8080/"
        },
        "id": "xFCF-U_4psAu",
        "outputId": "1cd6b1f2-b44b-471f-b326-0707654194bb"
      },
      "outputs": [],
      "source": [
        "#check if number of unique values for each column\n",
        "for col in data.drop(columns = 'tags').columns:\n",
        "  print(col, ':', data[col].nunique())"
      ]
    },
    {
      "cell_type": "markdown",
      "id": "bbuihipHrXqY",
      "metadata": {
        "id": "bbuihipHrXqY"
      },
      "source": [
        "## Data Cleansing"
      ]
    },
    {
      "cell_type": "markdown",
      "id": "uwae7FDdsWFu",
      "metadata": {
        "id": "uwae7FDdsWFu"
      },
      "source": [
        "Since all the above features except Description has got just one unique value hence dropping those columns because it won't add any value to our machine learning model"
      ]
    },
    {
      "cell_type": "code",
      "execution_count": null,
      "id": "d6550xoCh8dF",
      "metadata": {
        "colab": {
          "base_uri": "https://localhost:8080/",
          "height": 177,
          "referenced_widgets": [
            "9b937ee10cdd4a32822dd71481224627",
            "f7996d04666244d1aa6fa2ab9e07b1fb",
            "b325f827e418441a964167157d1878d1",
            "f9d43ab9431b4274a958227d247ca2ab",
            "5c9a88294d3b4b5da6a7ac1444c291df",
            "1e2bec2f68594106bb88d5fb8fe97232",
            "1a6355f19b504de3bbaec79cccb7a004",
            "40fa496a86004fa4852f405dbef3fb0b",
            "a6dfabf2e6104388b8179e9249492108",
            "aad43f343fd64616980e73924ebcc59b",
            "8d12f21a0fa84be48c89c6b0f17a179d",
            "0a92252fc44143b3abf99ab4961c86a1",
            "af341b6b403441e4b353c3105978f49f",
            "919113cde1304437b70418923bacc106",
            "424fe17930aa40919a849c1d2689cbd8",
            "136dd30dc3fe482aa9d7f1b797fae28e",
            "f234f72cd47844118c4b2117297158b3",
            "8bc7dd2051a74784b45e3df11e479fee",
            "31740ac7783e470c82bd6ef0e0482b82",
            "8d82178f3d0848f6a845ca68d84512d7",
            "99f2492628194ca2bef072bbdc729a4c",
            "a501d298dc6a45a1a40ee1a3bcc3cdec",
            "e29677c6c58342a4bf95c7b11847bebd",
            "2b160ba90ae54cd3bc85fc7f099b1fd4",
            "a9156bbc2d8b409093c75e201d5e7993",
            "4a3e92c360d24c2298dcfbf978ed5a03",
            "ac8edcea48d5439f9b42c871849de545",
            "592c1d54c27246e098862b760298957d",
            "907979ca4d2843a8b091e964352ba31f",
            "9854d18ca620474f9ec702535a1ee89f",
            "24cbda3621614f0d9a300b880b94420b",
            "8bda60160df54c52bc1b9fa88cb565e3",
            "6eb5251f5b1e4c2cbd10c77178335a6f",
            "247d1b8f1bd94a50baee6afd215f5242",
            "639b11831e8f42989233f4787276f175",
            "dc83a9c3bb3a4425bc93fb2f0b102703",
            "a7a27f43a42144e087ba66a86f99e4a8",
            "09d6c536c68048dc977e56d7496888b1",
            "173b5745ec5f4f4b962beedf5be4ff94",
            "b77a39e4c0b84595950b887e534878d7",
            "eda82ffdda274f16b74cef52d7ecd225",
            "212547ecda8d4c0c90018171ae16206c",
            "e01a5d0a4c604d74941956d0c837e662",
            "a59b46a3dde442aaad7bbdf21a8b37d5",
            "f79d269f32fe413f8c5c1512fd4a9419",
            "a22692f0ef3b4919987eadb6645f5aff",
            "f968bf16ccf344189e85747cf1d6e337",
            "459e2c18e0f84174b5d8fb8fdff45619",
            "b14c87d39fc3464d87eb3e20484381c6",
            "f74cef626fce46f0a193804007fc3a08",
            "55babbaa982944408a1ff52d9cc3aa17",
            "f40e05d596c64ec190031a19ef11b1dc",
            "4bccd1a939b346b78dbcfd2467066088",
            "ff575f1615ab4fee9b439b7cf6c6f438",
            "8489f06388a14a008b3370f915f797f5",
            "f84b615c2a544674b269e0b104526dda"
          ]
        },
        "id": "d6550xoCh8dF",
        "outputId": "2b2d1e59-ea4b-4b2f-84ab-99a49fbacbd7"
      },
      "outputs": [],
      "source": [
        "from transformers import pipeline\n",
        "\n",
        "# Instantiating bart model with zero- shot classification\n",
        "pipe = pipeline(model=\"facebook/bart-large-mnli\")\n",
        "clear_output()\n",
        "\n",
        "# testing a positive sample\n",
        "output = pipe(\"- __EMAIL__ Hi , I have just ordered a pair of __PRODUCT_NAME__ and put the relevant code for free __COMPANY__ bag as new customer . I have received trainers but no bag . Will this be sent separately? \\n Seems to be an inefficient system, or was this an oversight?\\n Kind regards\\n __NAME__\",\n",
        "         candidate_labels = ['Is customer asking for the status of his order?', 'Is it just a statement'])\n",
        "output"
      ]
    },
    {
      "cell_type": "code",
      "execution_count": null,
      "id": "I-oBdyrFoOAW",
      "metadata": {
        "colab": {
          "base_uri": "https://localhost:8080/"
        },
        "id": "I-oBdyrFoOAW",
        "outputId": "0d93712a-38d3-40fc-a98d-529ef18e1570"
      },
      "outputs": [],
      "source": [
        "# testing a negative sample\n",
        "pipe(\"The meal was awesome\", candidate_labels = ['Is customer asking for the status of his order?', 'Is it just a statement'])"
      ]
    },
    {
      "cell_type": "code",
      "execution_count": 13,
      "id": "Ajbl4NAmjP1N",
      "metadata": {
        "id": "Ajbl4NAmjP1N"
      },
      "outputs": [],
      "source": [
        "def is_order_status_request(text):\n",
        "  '''\n",
        "  Classify the input text whether it is a query by customer asking for the status or is it just a statement\n",
        "  using 'pre-trained NLI-based zero shot classification model'\n",
        "  '''\n",
        "  import numpy as np\n",
        "  output = pipe(text, candidate_labels = ['Is customer asking for the status of his order?', 'Is it just a statement'])\n",
        "  max_id = np.argmax(output['scores'])\n",
        "  return 1 if \"status\" in output['labels'][max_id] else 0"
      ]
    },
    {
      "cell_type": "code",
      "execution_count": null,
      "id": "158dd7e5",
      "metadata": {
        "colab": {
          "base_uri": "https://localhost:8080/"
        },
        "id": "158dd7e5",
        "outputId": "80301f38-ab9c-4897-c6fb-ed64f3d8af12"
      },
      "outputs": [],
      "source": [
        "%%time\n",
        "# Applying the above function to the whole dataset\n",
        "data['is_order_status_request'] = data['Description'].apply(is_order_status_request) #takes almost 25 mins to run but just one time so ok"
      ]
    },
    {
      "cell_type": "code",
      "execution_count": null,
      "id": "lRk1yvtb3N0J",
      "metadata": {
        "colab": {
          "base_uri": "https://localhost:8080/"
        },
        "id": "lRk1yvtb3N0J",
        "outputId": "0936ea54-567d-4cda-ab63-69ccc9ece4b5"
      },
      "outputs": [],
      "source": [
        "pd.set_option(\"display.max_colwidth\", -1)\n",
        "final_df = data[['Description', 'is_order_status_request']]\n",
        "final_df.head()\n",
        "final_df.to_csv(os.path.join(os.getcwd(),\"final_df.csv\"),index = False)"
      ]
    },
    {
      "cell_type": "markdown",
      "id": "87kZc_oquXFH",
      "metadata": {
        "id": "87kZc_oquXFH"
      },
      "source": [
        "## Vectorise the data with TfidfVectorizer"
      ]
    },
    {
      "cell_type": "code",
      "execution_count": null,
      "id": "lUU3TfA4YrZe",
      "metadata": {
        "colab": {
          "base_uri": "https://localhost:8080/"
        },
        "id": "lUU3TfA4YrZe",
        "outputId": "77648296-b2a5-4a2c-95c7-d1c9e9594813"
      },
      "outputs": [],
      "source": [
        "%%time\n",
        "# Perform Vectorisation of Description\n",
        "from sklearn.feature_extraction.text import TfidfVectorizer\n",
        "\n",
        "\n",
        "# Create a TF-IDF Vectorizer\n",
        "vectorizer = TfidfVectorizer()\n",
        "\n",
        "# Fit and Transform the 'Description' column\n",
        "tfidf_matrix = vectorizer.fit_transform(final_df['Description'])\n",
        "\n",
        "# Now, tfidf_matrix is the feature matrix. We can use it in ML model.\n",
        "# To see the matrix as a DataFrame:\n",
        "vectorised_df = pd.DataFrame(tfidf_matrix.toarray(), columns=vectorizer.get_feature_names_out())"
      ]
    },
    {
      "cell_type": "code",
      "execution_count": null,
      "id": "oltS1C8-gN0P",
      "metadata": {
        "colab": {
          "base_uri": "https://localhost:8080/",
          "height": 173
        },
        "id": "oltS1C8-gN0P",
        "outputId": "2a260e11-1b53-4da0-85e0-2ad2764c37fe"
      },
      "outputs": [],
      "source": [
        "vectorised_df.head(3)"
      ]
    },
    {
      "cell_type": "code",
      "execution_count": null,
      "id": "W3r89XAvgrKF",
      "metadata": {
        "colab": {
          "base_uri": "https://localhost:8080/"
        },
        "id": "W3r89XAvgrKF",
        "outputId": "d958dc3c-bfe6-4235-b32f-ab98ec02cb21"
      },
      "outputs": [],
      "source": [
        "vectorised_df.shape"
      ]
    },
    {
      "cell_type": "code",
      "execution_count": null,
      "id": "znILg0b2fyR_",
      "metadata": {
        "colab": {
          "base_uri": "https://localhost:8080/",
          "height": 173
        },
        "id": "znILg0b2fyR_",
        "outputId": "e81a3ee1-88be-445b-f129-74cad9e824ae"
      },
      "outputs": [],
      "source": [
        "vectorised_df_with_target = pd.concat([vectorised_df, final_df['is_order_status_request']],axis = 1 )\n",
        "vectorised_df_with_target.head(3)"
      ]
    },
    {
      "cell_type": "markdown",
      "id": "HbrVjnvGunFu",
      "metadata": {
        "id": "HbrVjnvGunFu"
      },
      "source": [
        "## Training Light GBM classifier and XGBClassifier models"
      ]
    },
    {
      "cell_type": "code",
      "execution_count": 20,
      "id": "BYSNSjEx1ilq",
      "metadata": {
        "id": "BYSNSjEx1ilq"
      },
      "outputs": [],
      "source": [
        "from sklearn import preprocessing\n",
        "X = vectorised_df\n",
        "y = final_df['is_order_status_request']\n",
        "\n",
        "# Train Test split\n",
        "from sklearn.model_selection import train_test_split\n",
        "X_train, X_test, y_train, y_test = train_test_split(X, y, stratify=y, test_size=0.2, random_state=42)"
      ]
    },
    {
      "cell_type": "code",
      "execution_count": 21,
      "id": "q3ZGg3T_TZNW",
      "metadata": {
        "id": "q3ZGg3T_TZNW"
      },
      "outputs": [],
      "source": [
        "def train(model, params):\n",
        "  return model(**params).fit(X_train, y_train)\n"
      ]
    },
    {
      "cell_type": "code",
      "execution_count": null,
      "id": "9KBcmF3UoiPq",
      "metadata": {
        "colab": {
          "base_uri": "https://localhost:8080/"
        },
        "id": "9KBcmF3UoiPq",
        "outputId": "ddd78504-d3da-4d87-e383-faf87f965917"
      },
      "outputs": [],
      "source": [
        "%%time\n",
        "from lightgbm import LGBMClassifier\n",
        "from xgboost import XGBClassifier\n",
        "params  = {'num_leaves': 128,\n",
        "           'max_depth': 35,\n",
        "           'learning_rate': 0.012385137298860933,\n",
        "           'colsample_bytree': 0.64,\n",
        "           'n_estimators': 500}"
      ]
    },
    {
      "cell_type": "code",
      "execution_count": null,
      "id": "7FJ4bCgITuxN",
      "metadata": {
        "colab": {
          "base_uri": "https://localhost:8080/",
          "height": 128
        },
        "id": "7FJ4bCgITuxN",
        "outputId": "79736d17-a5fd-41bd-98ab-4f159cbc4040"
      },
      "outputs": [],
      "source": [
        "%%time\n",
        "lgbClf = train(LGBMClassifier, params)\n",
        "clear_output()\n",
        "lgbClf"
      ]
    },
    {
      "cell_type": "code",
      "execution_count": null,
      "id": "c1k_mGkAWo9a",
      "metadata": {
        "colab": {
          "base_uri": "https://localhost:8080/",
          "height": 284
        },
        "id": "c1k_mGkAWo9a",
        "outputId": "6a9838b3-eb5a-46e0-e912-846374a77aad"
      },
      "outputs": [],
      "source": [
        "%%time\n",
        "xgbClf = train(XGBClassifier, params)\n",
        "clear_output()\n",
        "xgbClf"
      ]
    },
    {
      "cell_type": "markdown",
      "id": "UsfkrqkXu4vW",
      "metadata": {
        "id": "UsfkrqkXu4vW"
      },
      "source": [
        "## Evaluating different models with roc auc score and classification report"
      ]
    },
    {
      "cell_type": "code",
      "execution_count": 25,
      "id": "bNPt172ilZq1",
      "metadata": {
        "id": "bNPt172ilZq1"
      },
      "outputs": [],
      "source": [
        "from sklearn.metrics import roc_auc_score, classification_report"
      ]
    },
    {
      "cell_type": "markdown",
      "id": "K-fQRjT7UZ7k",
      "metadata": {
        "id": "K-fQRjT7UZ7k"
      },
      "source": [
        "### Evaluating LGBMClassifier\n"
      ]
    },
    {
      "cell_type": "code",
      "execution_count": null,
      "id": "rbXq3QKMpNFt",
      "metadata": {
        "colab": {
          "base_uri": "https://localhost:8080/"
        },
        "id": "rbXq3QKMpNFt",
        "outputId": "79364104-226a-4d09-d164-c208b6a466ac"
      },
      "outputs": [],
      "source": [
        "preds = lgbClf.predict_proba(X_test)\n",
        "clear_output()\n",
        "roc_auc_score(y_test, preds[:,1])"
      ]
    },
    {
      "cell_type": "code",
      "execution_count": null,
      "id": "SlLf3r-_lsuk",
      "metadata": {
        "colab": {
          "base_uri": "https://localhost:8080/"
        },
        "id": "SlLf3r-_lsuk",
        "outputId": "9e4c9fe7-a0ef-4dbd-c1e1-3292d1d2621b"
      },
      "outputs": [],
      "source": [
        "y_pred = lgbClf.predict(X_test)\n",
        "print(classification_report(y_test, y_pred))"
      ]
    },
    {
      "cell_type": "markdown",
      "id": "URbZ1zoDU8m1",
      "metadata": {
        "id": "URbZ1zoDU8m1"
      },
      "source": [
        "### Evaluating XGBClassifier"
      ]
    },
    {
      "cell_type": "code",
      "execution_count": null,
      "id": "iDNyUl5PUVjp",
      "metadata": {
        "colab": {
          "base_uri": "https://localhost:8080/"
        },
        "id": "iDNyUl5PUVjp",
        "outputId": "7fb2f583-81a4-4889-b2af-e9e7dea82730"
      },
      "outputs": [],
      "source": [
        "preds = xgbClf.predict_proba(X_test)\n",
        "clear_output()\n",
        "roc_auc_score(y_test, preds[:,1])"
      ]
    },
    {
      "cell_type": "code",
      "execution_count": null,
      "id": "WeAGswPUUXm7",
      "metadata": {
        "colab": {
          "base_uri": "https://localhost:8080/"
        },
        "id": "WeAGswPUUXm7",
        "outputId": "bba233e5-a0c1-4b7e-a5cf-c0a493868826"
      },
      "outputs": [],
      "source": [
        "y_pred = xgbClf.predict(X_test)\n",
        "print(classification_report(y_test, y_pred))"
      ]
    },
    {
      "cell_type": "markdown",
      "id": "pt70CXlzYYHC",
      "metadata": {
        "id": "pt70CXlzYYHC"
      },
      "source": [
        "### Since the dataset is small, it might be more important to focus on gathering more data before fine-tuning hyperparameters. Having a larger dataset can help ensure that the hyperparameters we find are more likely to generalize to new data. Hence I do not perform hyper parameter tuning of the models in this case.\n"
      ]
    },
    {
      "cell_type": "code",
      "execution_count": 30,
      "id": "48752e00-c6b1-493f-9c6a-813b843dd66a",
      "metadata": {
        "id": "48752e00-c6b1-493f-9c6a-813b843dd66a"
      },
      "outputs": [],
      "source": [
        "pip freeze > requirements.txt"
      ]
    }
  ],
  "metadata": {
    "accelerator": "GPU",
    "colab": {
      "gpuType": "V100",
      "machine_shape": "hm",
      "provenance": []
    },
    "kernelspec": {
      "display_name": "Python 3",
      "name": "python3"
    },
    "language_info": {
      "codemirror_mode": {
        "name": "ipython",
        "version": 3
      },
      "file_extension": ".py",
      "mimetype": "text/x-python",
      "name": "python",
      "nbconvert_exporter": "python",
      "pygments_lexer": "ipython3",
      "version": "3.10.13"
    },
    "widgets": {
      "application/vnd.jupyter.widget-state+json": {
        "09d6c536c68048dc977e56d7496888b1": {
          "model_module": "@jupyter-widgets/base",
          "model_module_version": "1.2.0",
          "model_name": "LayoutModel",
          "state": {
            "_model_module": "@jupyter-widgets/base",
            "_model_module_version": "1.2.0",
            "_model_name": "LayoutModel",
            "_view_count": null,
            "_view_module": "@jupyter-widgets/base",
            "_view_module_version": "1.2.0",
            "_view_name": "LayoutView",
            "align_content": null,
            "align_items": null,
            "align_self": null,
            "border": null,
            "bottom": null,
            "display": null,
            "flex": null,
            "flex_flow": null,
            "grid_area": null,
            "grid_auto_columns": null,
            "grid_auto_flow": null,
            "grid_auto_rows": null,
            "grid_column": null,
            "grid_gap": null,
            "grid_row": null,
            "grid_template_areas": null,
            "grid_template_columns": null,
            "grid_template_rows": null,
            "height": null,
            "justify_content": null,
            "justify_items": null,
            "left": null,
            "margin": null,
            "max_height": null,
            "max_width": null,
            "min_height": null,
            "min_width": null,
            "object_fit": null,
            "object_position": null,
            "order": null,
            "overflow": null,
            "overflow_x": null,
            "overflow_y": null,
            "padding": null,
            "right": null,
            "top": null,
            "visibility": null,
            "width": null
          }
        },
        "0a92252fc44143b3abf99ab4961c86a1": {
          "model_module": "@jupyter-widgets/controls",
          "model_module_version": "1.5.0",
          "model_name": "HBoxModel",
          "state": {
            "_dom_classes": [],
            "_model_module": "@jupyter-widgets/controls",
            "_model_module_version": "1.5.0",
            "_model_name": "HBoxModel",
            "_view_count": null,
            "_view_module": "@jupyter-widgets/controls",
            "_view_module_version": "1.5.0",
            "_view_name": "HBoxView",
            "box_style": "",
            "children": [
              "IPY_MODEL_af341b6b403441e4b353c3105978f49f",
              "IPY_MODEL_919113cde1304437b70418923bacc106",
              "IPY_MODEL_424fe17930aa40919a849c1d2689cbd8"
            ],
            "layout": "IPY_MODEL_136dd30dc3fe482aa9d7f1b797fae28e"
          }
        },
        "136dd30dc3fe482aa9d7f1b797fae28e": {
          "model_module": "@jupyter-widgets/base",
          "model_module_version": "1.2.0",
          "model_name": "LayoutModel",
          "state": {
            "_model_module": "@jupyter-widgets/base",
            "_model_module_version": "1.2.0",
            "_model_name": "LayoutModel",
            "_view_count": null,
            "_view_module": "@jupyter-widgets/base",
            "_view_module_version": "1.2.0",
            "_view_name": "LayoutView",
            "align_content": null,
            "align_items": null,
            "align_self": null,
            "border": null,
            "bottom": null,
            "display": null,
            "flex": null,
            "flex_flow": null,
            "grid_area": null,
            "grid_auto_columns": null,
            "grid_auto_flow": null,
            "grid_auto_rows": null,
            "grid_column": null,
            "grid_gap": null,
            "grid_row": null,
            "grid_template_areas": null,
            "grid_template_columns": null,
            "grid_template_rows": null,
            "height": null,
            "justify_content": null,
            "justify_items": null,
            "left": null,
            "margin": null,
            "max_height": null,
            "max_width": null,
            "min_height": null,
            "min_width": null,
            "object_fit": null,
            "object_position": null,
            "order": null,
            "overflow": null,
            "overflow_x": null,
            "overflow_y": null,
            "padding": null,
            "right": null,
            "top": null,
            "visibility": null,
            "width": null
          }
        },
        "173b5745ec5f4f4b962beedf5be4ff94": {
          "model_module": "@jupyter-widgets/base",
          "model_module_version": "1.2.0",
          "model_name": "LayoutModel",
          "state": {
            "_model_module": "@jupyter-widgets/base",
            "_model_module_version": "1.2.0",
            "_model_name": "LayoutModel",
            "_view_count": null,
            "_view_module": "@jupyter-widgets/base",
            "_view_module_version": "1.2.0",
            "_view_name": "LayoutView",
            "align_content": null,
            "align_items": null,
            "align_self": null,
            "border": null,
            "bottom": null,
            "display": null,
            "flex": null,
            "flex_flow": null,
            "grid_area": null,
            "grid_auto_columns": null,
            "grid_auto_flow": null,
            "grid_auto_rows": null,
            "grid_column": null,
            "grid_gap": null,
            "grid_row": null,
            "grid_template_areas": null,
            "grid_template_columns": null,
            "grid_template_rows": null,
            "height": null,
            "justify_content": null,
            "justify_items": null,
            "left": null,
            "margin": null,
            "max_height": null,
            "max_width": null,
            "min_height": null,
            "min_width": null,
            "object_fit": null,
            "object_position": null,
            "order": null,
            "overflow": null,
            "overflow_x": null,
            "overflow_y": null,
            "padding": null,
            "right": null,
            "top": null,
            "visibility": null,
            "width": null
          }
        },
        "1a6355f19b504de3bbaec79cccb7a004": {
          "model_module": "@jupyter-widgets/controls",
          "model_module_version": "1.5.0",
          "model_name": "DescriptionStyleModel",
          "state": {
            "_model_module": "@jupyter-widgets/controls",
            "_model_module_version": "1.5.0",
            "_model_name": "DescriptionStyleModel",
            "_view_count": null,
            "_view_module": "@jupyter-widgets/base",
            "_view_module_version": "1.2.0",
            "_view_name": "StyleView",
            "description_width": ""
          }
        },
        "1e2bec2f68594106bb88d5fb8fe97232": {
          "model_module": "@jupyter-widgets/base",
          "model_module_version": "1.2.0",
          "model_name": "LayoutModel",
          "state": {
            "_model_module": "@jupyter-widgets/base",
            "_model_module_version": "1.2.0",
            "_model_name": "LayoutModel",
            "_view_count": null,
            "_view_module": "@jupyter-widgets/base",
            "_view_module_version": "1.2.0",
            "_view_name": "LayoutView",
            "align_content": null,
            "align_items": null,
            "align_self": null,
            "border": null,
            "bottom": null,
            "display": null,
            "flex": null,
            "flex_flow": null,
            "grid_area": null,
            "grid_auto_columns": null,
            "grid_auto_flow": null,
            "grid_auto_rows": null,
            "grid_column": null,
            "grid_gap": null,
            "grid_row": null,
            "grid_template_areas": null,
            "grid_template_columns": null,
            "grid_template_rows": null,
            "height": null,
            "justify_content": null,
            "justify_items": null,
            "left": null,
            "margin": null,
            "max_height": null,
            "max_width": null,
            "min_height": null,
            "min_width": null,
            "object_fit": null,
            "object_position": null,
            "order": null,
            "overflow": null,
            "overflow_x": null,
            "overflow_y": null,
            "padding": null,
            "right": null,
            "top": null,
            "visibility": null,
            "width": null
          }
        },
        "212547ecda8d4c0c90018171ae16206c": {
          "model_module": "@jupyter-widgets/controls",
          "model_module_version": "1.5.0",
          "model_name": "ProgressStyleModel",
          "state": {
            "_model_module": "@jupyter-widgets/controls",
            "_model_module_version": "1.5.0",
            "_model_name": "ProgressStyleModel",
            "_view_count": null,
            "_view_module": "@jupyter-widgets/base",
            "_view_module_version": "1.2.0",
            "_view_name": "StyleView",
            "bar_color": null,
            "description_width": ""
          }
        },
        "247d1b8f1bd94a50baee6afd215f5242": {
          "model_module": "@jupyter-widgets/controls",
          "model_module_version": "1.5.0",
          "model_name": "HBoxModel",
          "state": {
            "_dom_classes": [],
            "_model_module": "@jupyter-widgets/controls",
            "_model_module_version": "1.5.0",
            "_model_name": "HBoxModel",
            "_view_count": null,
            "_view_module": "@jupyter-widgets/controls",
            "_view_module_version": "1.5.0",
            "_view_name": "HBoxView",
            "box_style": "",
            "children": [
              "IPY_MODEL_639b11831e8f42989233f4787276f175",
              "IPY_MODEL_dc83a9c3bb3a4425bc93fb2f0b102703",
              "IPY_MODEL_a7a27f43a42144e087ba66a86f99e4a8"
            ],
            "layout": "IPY_MODEL_09d6c536c68048dc977e56d7496888b1"
          }
        },
        "24cbda3621614f0d9a300b880b94420b": {
          "model_module": "@jupyter-widgets/controls",
          "model_module_version": "1.5.0",
          "model_name": "ProgressStyleModel",
          "state": {
            "_model_module": "@jupyter-widgets/controls",
            "_model_module_version": "1.5.0",
            "_model_name": "ProgressStyleModel",
            "_view_count": null,
            "_view_module": "@jupyter-widgets/base",
            "_view_module_version": "1.2.0",
            "_view_name": "StyleView",
            "bar_color": null,
            "description_width": ""
          }
        },
        "2b160ba90ae54cd3bc85fc7f099b1fd4": {
          "model_module": "@jupyter-widgets/controls",
          "model_module_version": "1.5.0",
          "model_name": "HTMLModel",
          "state": {
            "_dom_classes": [],
            "_model_module": "@jupyter-widgets/controls",
            "_model_module_version": "1.5.0",
            "_model_name": "HTMLModel",
            "_view_count": null,
            "_view_module": "@jupyter-widgets/controls",
            "_view_module_version": "1.5.0",
            "_view_name": "HTMLView",
            "description": "",
            "description_tooltip": null,
            "layout": "IPY_MODEL_592c1d54c27246e098862b760298957d",
            "placeholder": "​",
            "style": "IPY_MODEL_907979ca4d2843a8b091e964352ba31f",
            "value": "Downloading (…)okenizer_config.json: 100%"
          }
        },
        "31740ac7783e470c82bd6ef0e0482b82": {
          "model_module": "@jupyter-widgets/base",
          "model_module_version": "1.2.0",
          "model_name": "LayoutModel",
          "state": {
            "_model_module": "@jupyter-widgets/base",
            "_model_module_version": "1.2.0",
            "_model_name": "LayoutModel",
            "_view_count": null,
            "_view_module": "@jupyter-widgets/base",
            "_view_module_version": "1.2.0",
            "_view_name": "LayoutView",
            "align_content": null,
            "align_items": null,
            "align_self": null,
            "border": null,
            "bottom": null,
            "display": null,
            "flex": null,
            "flex_flow": null,
            "grid_area": null,
            "grid_auto_columns": null,
            "grid_auto_flow": null,
            "grid_auto_rows": null,
            "grid_column": null,
            "grid_gap": null,
            "grid_row": null,
            "grid_template_areas": null,
            "grid_template_columns": null,
            "grid_template_rows": null,
            "height": null,
            "justify_content": null,
            "justify_items": null,
            "left": null,
            "margin": null,
            "max_height": null,
            "max_width": null,
            "min_height": null,
            "min_width": null,
            "object_fit": null,
            "object_position": null,
            "order": null,
            "overflow": null,
            "overflow_x": null,
            "overflow_y": null,
            "padding": null,
            "right": null,
            "top": null,
            "visibility": null,
            "width": null
          }
        },
        "40fa496a86004fa4852f405dbef3fb0b": {
          "model_module": "@jupyter-widgets/base",
          "model_module_version": "1.2.0",
          "model_name": "LayoutModel",
          "state": {
            "_model_module": "@jupyter-widgets/base",
            "_model_module_version": "1.2.0",
            "_model_name": "LayoutModel",
            "_view_count": null,
            "_view_module": "@jupyter-widgets/base",
            "_view_module_version": "1.2.0",
            "_view_name": "LayoutView",
            "align_content": null,
            "align_items": null,
            "align_self": null,
            "border": null,
            "bottom": null,
            "display": null,
            "flex": null,
            "flex_flow": null,
            "grid_area": null,
            "grid_auto_columns": null,
            "grid_auto_flow": null,
            "grid_auto_rows": null,
            "grid_column": null,
            "grid_gap": null,
            "grid_row": null,
            "grid_template_areas": null,
            "grid_template_columns": null,
            "grid_template_rows": null,
            "height": null,
            "justify_content": null,
            "justify_items": null,
            "left": null,
            "margin": null,
            "max_height": null,
            "max_width": null,
            "min_height": null,
            "min_width": null,
            "object_fit": null,
            "object_position": null,
            "order": null,
            "overflow": null,
            "overflow_x": null,
            "overflow_y": null,
            "padding": null,
            "right": null,
            "top": null,
            "visibility": null,
            "width": null
          }
        },
        "424fe17930aa40919a849c1d2689cbd8": {
          "model_module": "@jupyter-widgets/controls",
          "model_module_version": "1.5.0",
          "model_name": "HTMLModel",
          "state": {
            "_dom_classes": [],
            "_model_module": "@jupyter-widgets/controls",
            "_model_module_version": "1.5.0",
            "_model_name": "HTMLModel",
            "_view_count": null,
            "_view_module": "@jupyter-widgets/controls",
            "_view_module_version": "1.5.0",
            "_view_name": "HTMLView",
            "description": "",
            "description_tooltip": null,
            "layout": "IPY_MODEL_99f2492628194ca2bef072bbdc729a4c",
            "placeholder": "​",
            "style": "IPY_MODEL_a501d298dc6a45a1a40ee1a3bcc3cdec",
            "value": " 1.63G/1.63G [00:04&lt;00:00, 336MB/s]"
          }
        },
        "459e2c18e0f84174b5d8fb8fdff45619": {
          "model_module": "@jupyter-widgets/controls",
          "model_module_version": "1.5.0",
          "model_name": "HTMLModel",
          "state": {
            "_dom_classes": [],
            "_model_module": "@jupyter-widgets/controls",
            "_model_module_version": "1.5.0",
            "_model_name": "HTMLModel",
            "_view_count": null,
            "_view_module": "@jupyter-widgets/controls",
            "_view_module_version": "1.5.0",
            "_view_name": "HTMLView",
            "description": "",
            "description_tooltip": null,
            "layout": "IPY_MODEL_ff575f1615ab4fee9b439b7cf6c6f438",
            "placeholder": "​",
            "style": "IPY_MODEL_8489f06388a14a008b3370f915f797f5",
            "value": " 456k/456k [00:00&lt;00:00, 28.9MB/s]"
          }
        },
        "4a3e92c360d24c2298dcfbf978ed5a03": {
          "model_module": "@jupyter-widgets/controls",
          "model_module_version": "1.5.0",
          "model_name": "HTMLModel",
          "state": {
            "_dom_classes": [],
            "_model_module": "@jupyter-widgets/controls",
            "_model_module_version": "1.5.0",
            "_model_name": "HTMLModel",
            "_view_count": null,
            "_view_module": "@jupyter-widgets/controls",
            "_view_module_version": "1.5.0",
            "_view_name": "HTMLView",
            "description": "",
            "description_tooltip": null,
            "layout": "IPY_MODEL_8bda60160df54c52bc1b9fa88cb565e3",
            "placeholder": "​",
            "style": "IPY_MODEL_6eb5251f5b1e4c2cbd10c77178335a6f",
            "value": " 26.0/26.0 [00:00&lt;00:00, 1.45kB/s]"
          }
        },
        "4bccd1a939b346b78dbcfd2467066088": {
          "model_module": "@jupyter-widgets/controls",
          "model_module_version": "1.5.0",
          "model_name": "ProgressStyleModel",
          "state": {
            "_model_module": "@jupyter-widgets/controls",
            "_model_module_version": "1.5.0",
            "_model_name": "ProgressStyleModel",
            "_view_count": null,
            "_view_module": "@jupyter-widgets/base",
            "_view_module_version": "1.2.0",
            "_view_name": "StyleView",
            "bar_color": null,
            "description_width": ""
          }
        },
        "55babbaa982944408a1ff52d9cc3aa17": {
          "model_module": "@jupyter-widgets/controls",
          "model_module_version": "1.5.0",
          "model_name": "DescriptionStyleModel",
          "state": {
            "_model_module": "@jupyter-widgets/controls",
            "_model_module_version": "1.5.0",
            "_model_name": "DescriptionStyleModel",
            "_view_count": null,
            "_view_module": "@jupyter-widgets/base",
            "_view_module_version": "1.2.0",
            "_view_name": "StyleView",
            "description_width": ""
          }
        },
        "592c1d54c27246e098862b760298957d": {
          "model_module": "@jupyter-widgets/base",
          "model_module_version": "1.2.0",
          "model_name": "LayoutModel",
          "state": {
            "_model_module": "@jupyter-widgets/base",
            "_model_module_version": "1.2.0",
            "_model_name": "LayoutModel",
            "_view_count": null,
            "_view_module": "@jupyter-widgets/base",
            "_view_module_version": "1.2.0",
            "_view_name": "LayoutView",
            "align_content": null,
            "align_items": null,
            "align_self": null,
            "border": null,
            "bottom": null,
            "display": null,
            "flex": null,
            "flex_flow": null,
            "grid_area": null,
            "grid_auto_columns": null,
            "grid_auto_flow": null,
            "grid_auto_rows": null,
            "grid_column": null,
            "grid_gap": null,
            "grid_row": null,
            "grid_template_areas": null,
            "grid_template_columns": null,
            "grid_template_rows": null,
            "height": null,
            "justify_content": null,
            "justify_items": null,
            "left": null,
            "margin": null,
            "max_height": null,
            "max_width": null,
            "min_height": null,
            "min_width": null,
            "object_fit": null,
            "object_position": null,
            "order": null,
            "overflow": null,
            "overflow_x": null,
            "overflow_y": null,
            "padding": null,
            "right": null,
            "top": null,
            "visibility": null,
            "width": null
          }
        },
        "5c9a88294d3b4b5da6a7ac1444c291df": {
          "model_module": "@jupyter-widgets/base",
          "model_module_version": "1.2.0",
          "model_name": "LayoutModel",
          "state": {
            "_model_module": "@jupyter-widgets/base",
            "_model_module_version": "1.2.0",
            "_model_name": "LayoutModel",
            "_view_count": null,
            "_view_module": "@jupyter-widgets/base",
            "_view_module_version": "1.2.0",
            "_view_name": "LayoutView",
            "align_content": null,
            "align_items": null,
            "align_self": null,
            "border": null,
            "bottom": null,
            "display": null,
            "flex": null,
            "flex_flow": null,
            "grid_area": null,
            "grid_auto_columns": null,
            "grid_auto_flow": null,
            "grid_auto_rows": null,
            "grid_column": null,
            "grid_gap": null,
            "grid_row": null,
            "grid_template_areas": null,
            "grid_template_columns": null,
            "grid_template_rows": null,
            "height": null,
            "justify_content": null,
            "justify_items": null,
            "left": null,
            "margin": null,
            "max_height": null,
            "max_width": null,
            "min_height": null,
            "min_width": null,
            "object_fit": null,
            "object_position": null,
            "order": null,
            "overflow": null,
            "overflow_x": null,
            "overflow_y": null,
            "padding": null,
            "right": null,
            "top": null,
            "visibility": null,
            "width": null
          }
        },
        "639b11831e8f42989233f4787276f175": {
          "model_module": "@jupyter-widgets/controls",
          "model_module_version": "1.5.0",
          "model_name": "HTMLModel",
          "state": {
            "_dom_classes": [],
            "_model_module": "@jupyter-widgets/controls",
            "_model_module_version": "1.5.0",
            "_model_name": "HTMLModel",
            "_view_count": null,
            "_view_module": "@jupyter-widgets/controls",
            "_view_module_version": "1.5.0",
            "_view_name": "HTMLView",
            "description": "",
            "description_tooltip": null,
            "layout": "IPY_MODEL_173b5745ec5f4f4b962beedf5be4ff94",
            "placeholder": "​",
            "style": "IPY_MODEL_b77a39e4c0b84595950b887e534878d7",
            "value": "Downloading (…)olve/main/vocab.json: 100%"
          }
        },
        "6eb5251f5b1e4c2cbd10c77178335a6f": {
          "model_module": "@jupyter-widgets/controls",
          "model_module_version": "1.5.0",
          "model_name": "DescriptionStyleModel",
          "state": {
            "_model_module": "@jupyter-widgets/controls",
            "_model_module_version": "1.5.0",
            "_model_name": "DescriptionStyleModel",
            "_view_count": null,
            "_view_module": "@jupyter-widgets/base",
            "_view_module_version": "1.2.0",
            "_view_name": "StyleView",
            "description_width": ""
          }
        },
        "8489f06388a14a008b3370f915f797f5": {
          "model_module": "@jupyter-widgets/controls",
          "model_module_version": "1.5.0",
          "model_name": "DescriptionStyleModel",
          "state": {
            "_model_module": "@jupyter-widgets/controls",
            "_model_module_version": "1.5.0",
            "_model_name": "DescriptionStyleModel",
            "_view_count": null,
            "_view_module": "@jupyter-widgets/base",
            "_view_module_version": "1.2.0",
            "_view_name": "StyleView",
            "description_width": ""
          }
        },
        "8bc7dd2051a74784b45e3df11e479fee": {
          "model_module": "@jupyter-widgets/controls",
          "model_module_version": "1.5.0",
          "model_name": "DescriptionStyleModel",
          "state": {
            "_model_module": "@jupyter-widgets/controls",
            "_model_module_version": "1.5.0",
            "_model_name": "DescriptionStyleModel",
            "_view_count": null,
            "_view_module": "@jupyter-widgets/base",
            "_view_module_version": "1.2.0",
            "_view_name": "StyleView",
            "description_width": ""
          }
        },
        "8bda60160df54c52bc1b9fa88cb565e3": {
          "model_module": "@jupyter-widgets/base",
          "model_module_version": "1.2.0",
          "model_name": "LayoutModel",
          "state": {
            "_model_module": "@jupyter-widgets/base",
            "_model_module_version": "1.2.0",
            "_model_name": "LayoutModel",
            "_view_count": null,
            "_view_module": "@jupyter-widgets/base",
            "_view_module_version": "1.2.0",
            "_view_name": "LayoutView",
            "align_content": null,
            "align_items": null,
            "align_self": null,
            "border": null,
            "bottom": null,
            "display": null,
            "flex": null,
            "flex_flow": null,
            "grid_area": null,
            "grid_auto_columns": null,
            "grid_auto_flow": null,
            "grid_auto_rows": null,
            "grid_column": null,
            "grid_gap": null,
            "grid_row": null,
            "grid_template_areas": null,
            "grid_template_columns": null,
            "grid_template_rows": null,
            "height": null,
            "justify_content": null,
            "justify_items": null,
            "left": null,
            "margin": null,
            "max_height": null,
            "max_width": null,
            "min_height": null,
            "min_width": null,
            "object_fit": null,
            "object_position": null,
            "order": null,
            "overflow": null,
            "overflow_x": null,
            "overflow_y": null,
            "padding": null,
            "right": null,
            "top": null,
            "visibility": null,
            "width": null
          }
        },
        "8d12f21a0fa84be48c89c6b0f17a179d": {
          "model_module": "@jupyter-widgets/controls",
          "model_module_version": "1.5.0",
          "model_name": "DescriptionStyleModel",
          "state": {
            "_model_module": "@jupyter-widgets/controls",
            "_model_module_version": "1.5.0",
            "_model_name": "DescriptionStyleModel",
            "_view_count": null,
            "_view_module": "@jupyter-widgets/base",
            "_view_module_version": "1.2.0",
            "_view_name": "StyleView",
            "description_width": ""
          }
        },
        "8d82178f3d0848f6a845ca68d84512d7": {
          "model_module": "@jupyter-widgets/controls",
          "model_module_version": "1.5.0",
          "model_name": "ProgressStyleModel",
          "state": {
            "_model_module": "@jupyter-widgets/controls",
            "_model_module_version": "1.5.0",
            "_model_name": "ProgressStyleModel",
            "_view_count": null,
            "_view_module": "@jupyter-widgets/base",
            "_view_module_version": "1.2.0",
            "_view_name": "StyleView",
            "bar_color": null,
            "description_width": ""
          }
        },
        "907979ca4d2843a8b091e964352ba31f": {
          "model_module": "@jupyter-widgets/controls",
          "model_module_version": "1.5.0",
          "model_name": "DescriptionStyleModel",
          "state": {
            "_model_module": "@jupyter-widgets/controls",
            "_model_module_version": "1.5.0",
            "_model_name": "DescriptionStyleModel",
            "_view_count": null,
            "_view_module": "@jupyter-widgets/base",
            "_view_module_version": "1.2.0",
            "_view_name": "StyleView",
            "description_width": ""
          }
        },
        "919113cde1304437b70418923bacc106": {
          "model_module": "@jupyter-widgets/controls",
          "model_module_version": "1.5.0",
          "model_name": "FloatProgressModel",
          "state": {
            "_dom_classes": [],
            "_model_module": "@jupyter-widgets/controls",
            "_model_module_version": "1.5.0",
            "_model_name": "FloatProgressModel",
            "_view_count": null,
            "_view_module": "@jupyter-widgets/controls",
            "_view_module_version": "1.5.0",
            "_view_name": "ProgressView",
            "bar_style": "success",
            "description": "",
            "description_tooltip": null,
            "layout": "IPY_MODEL_31740ac7783e470c82bd6ef0e0482b82",
            "max": 1629437147,
            "min": 0,
            "orientation": "horizontal",
            "style": "IPY_MODEL_8d82178f3d0848f6a845ca68d84512d7",
            "value": 1629437147
          }
        },
        "9854d18ca620474f9ec702535a1ee89f": {
          "model_module": "@jupyter-widgets/base",
          "model_module_version": "1.2.0",
          "model_name": "LayoutModel",
          "state": {
            "_model_module": "@jupyter-widgets/base",
            "_model_module_version": "1.2.0",
            "_model_name": "LayoutModel",
            "_view_count": null,
            "_view_module": "@jupyter-widgets/base",
            "_view_module_version": "1.2.0",
            "_view_name": "LayoutView",
            "align_content": null,
            "align_items": null,
            "align_self": null,
            "border": null,
            "bottom": null,
            "display": null,
            "flex": null,
            "flex_flow": null,
            "grid_area": null,
            "grid_auto_columns": null,
            "grid_auto_flow": null,
            "grid_auto_rows": null,
            "grid_column": null,
            "grid_gap": null,
            "grid_row": null,
            "grid_template_areas": null,
            "grid_template_columns": null,
            "grid_template_rows": null,
            "height": null,
            "justify_content": null,
            "justify_items": null,
            "left": null,
            "margin": null,
            "max_height": null,
            "max_width": null,
            "min_height": null,
            "min_width": null,
            "object_fit": null,
            "object_position": null,
            "order": null,
            "overflow": null,
            "overflow_x": null,
            "overflow_y": null,
            "padding": null,
            "right": null,
            "top": null,
            "visibility": null,
            "width": null
          }
        },
        "99f2492628194ca2bef072bbdc729a4c": {
          "model_module": "@jupyter-widgets/base",
          "model_module_version": "1.2.0",
          "model_name": "LayoutModel",
          "state": {
            "_model_module": "@jupyter-widgets/base",
            "_model_module_version": "1.2.0",
            "_model_name": "LayoutModel",
            "_view_count": null,
            "_view_module": "@jupyter-widgets/base",
            "_view_module_version": "1.2.0",
            "_view_name": "LayoutView",
            "align_content": null,
            "align_items": null,
            "align_self": null,
            "border": null,
            "bottom": null,
            "display": null,
            "flex": null,
            "flex_flow": null,
            "grid_area": null,
            "grid_auto_columns": null,
            "grid_auto_flow": null,
            "grid_auto_rows": null,
            "grid_column": null,
            "grid_gap": null,
            "grid_row": null,
            "grid_template_areas": null,
            "grid_template_columns": null,
            "grid_template_rows": null,
            "height": null,
            "justify_content": null,
            "justify_items": null,
            "left": null,
            "margin": null,
            "max_height": null,
            "max_width": null,
            "min_height": null,
            "min_width": null,
            "object_fit": null,
            "object_position": null,
            "order": null,
            "overflow": null,
            "overflow_x": null,
            "overflow_y": null,
            "padding": null,
            "right": null,
            "top": null,
            "visibility": null,
            "width": null
          }
        },
        "9b937ee10cdd4a32822dd71481224627": {
          "model_module": "@jupyter-widgets/controls",
          "model_module_version": "1.5.0",
          "model_name": "HBoxModel",
          "state": {
            "_dom_classes": [],
            "_model_module": "@jupyter-widgets/controls",
            "_model_module_version": "1.5.0",
            "_model_name": "HBoxModel",
            "_view_count": null,
            "_view_module": "@jupyter-widgets/controls",
            "_view_module_version": "1.5.0",
            "_view_name": "HBoxView",
            "box_style": "",
            "children": [
              "IPY_MODEL_f7996d04666244d1aa6fa2ab9e07b1fb",
              "IPY_MODEL_b325f827e418441a964167157d1878d1",
              "IPY_MODEL_f9d43ab9431b4274a958227d247ca2ab"
            ],
            "layout": "IPY_MODEL_5c9a88294d3b4b5da6a7ac1444c291df"
          }
        },
        "a22692f0ef3b4919987eadb6645f5aff": {
          "model_module": "@jupyter-widgets/controls",
          "model_module_version": "1.5.0",
          "model_name": "HTMLModel",
          "state": {
            "_dom_classes": [],
            "_model_module": "@jupyter-widgets/controls",
            "_model_module_version": "1.5.0",
            "_model_name": "HTMLModel",
            "_view_count": null,
            "_view_module": "@jupyter-widgets/controls",
            "_view_module_version": "1.5.0",
            "_view_name": "HTMLView",
            "description": "",
            "description_tooltip": null,
            "layout": "IPY_MODEL_f74cef626fce46f0a193804007fc3a08",
            "placeholder": "​",
            "style": "IPY_MODEL_55babbaa982944408a1ff52d9cc3aa17",
            "value": "Downloading (…)olve/main/merges.txt: 100%"
          }
        },
        "a501d298dc6a45a1a40ee1a3bcc3cdec": {
          "model_module": "@jupyter-widgets/controls",
          "model_module_version": "1.5.0",
          "model_name": "DescriptionStyleModel",
          "state": {
            "_model_module": "@jupyter-widgets/controls",
            "_model_module_version": "1.5.0",
            "_model_name": "DescriptionStyleModel",
            "_view_count": null,
            "_view_module": "@jupyter-widgets/base",
            "_view_module_version": "1.2.0",
            "_view_name": "StyleView",
            "description_width": ""
          }
        },
        "a59b46a3dde442aaad7bbdf21a8b37d5": {
          "model_module": "@jupyter-widgets/controls",
          "model_module_version": "1.5.0",
          "model_name": "DescriptionStyleModel",
          "state": {
            "_model_module": "@jupyter-widgets/controls",
            "_model_module_version": "1.5.0",
            "_model_name": "DescriptionStyleModel",
            "_view_count": null,
            "_view_module": "@jupyter-widgets/base",
            "_view_module_version": "1.2.0",
            "_view_name": "StyleView",
            "description_width": ""
          }
        },
        "a6dfabf2e6104388b8179e9249492108": {
          "model_module": "@jupyter-widgets/controls",
          "model_module_version": "1.5.0",
          "model_name": "ProgressStyleModel",
          "state": {
            "_model_module": "@jupyter-widgets/controls",
            "_model_module_version": "1.5.0",
            "_model_name": "ProgressStyleModel",
            "_view_count": null,
            "_view_module": "@jupyter-widgets/base",
            "_view_module_version": "1.2.0",
            "_view_name": "StyleView",
            "bar_color": null,
            "description_width": ""
          }
        },
        "a7a27f43a42144e087ba66a86f99e4a8": {
          "model_module": "@jupyter-widgets/controls",
          "model_module_version": "1.5.0",
          "model_name": "HTMLModel",
          "state": {
            "_dom_classes": [],
            "_model_module": "@jupyter-widgets/controls",
            "_model_module_version": "1.5.0",
            "_model_name": "HTMLModel",
            "_view_count": null,
            "_view_module": "@jupyter-widgets/controls",
            "_view_module_version": "1.5.0",
            "_view_name": "HTMLView",
            "description": "",
            "description_tooltip": null,
            "layout": "IPY_MODEL_e01a5d0a4c604d74941956d0c837e662",
            "placeholder": "​",
            "style": "IPY_MODEL_a59b46a3dde442aaad7bbdf21a8b37d5",
            "value": " 899k/899k [00:00&lt;00:00, 27.6MB/s]"
          }
        },
        "a9156bbc2d8b409093c75e201d5e7993": {
          "model_module": "@jupyter-widgets/controls",
          "model_module_version": "1.5.0",
          "model_name": "FloatProgressModel",
          "state": {
            "_dom_classes": [],
            "_model_module": "@jupyter-widgets/controls",
            "_model_module_version": "1.5.0",
            "_model_name": "FloatProgressModel",
            "_view_count": null,
            "_view_module": "@jupyter-widgets/controls",
            "_view_module_version": "1.5.0",
            "_view_name": "ProgressView",
            "bar_style": "success",
            "description": "",
            "description_tooltip": null,
            "layout": "IPY_MODEL_9854d18ca620474f9ec702535a1ee89f",
            "max": 26,
            "min": 0,
            "orientation": "horizontal",
            "style": "IPY_MODEL_24cbda3621614f0d9a300b880b94420b",
            "value": 26
          }
        },
        "aad43f343fd64616980e73924ebcc59b": {
          "model_module": "@jupyter-widgets/base",
          "model_module_version": "1.2.0",
          "model_name": "LayoutModel",
          "state": {
            "_model_module": "@jupyter-widgets/base",
            "_model_module_version": "1.2.0",
            "_model_name": "LayoutModel",
            "_view_count": null,
            "_view_module": "@jupyter-widgets/base",
            "_view_module_version": "1.2.0",
            "_view_name": "LayoutView",
            "align_content": null,
            "align_items": null,
            "align_self": null,
            "border": null,
            "bottom": null,
            "display": null,
            "flex": null,
            "flex_flow": null,
            "grid_area": null,
            "grid_auto_columns": null,
            "grid_auto_flow": null,
            "grid_auto_rows": null,
            "grid_column": null,
            "grid_gap": null,
            "grid_row": null,
            "grid_template_areas": null,
            "grid_template_columns": null,
            "grid_template_rows": null,
            "height": null,
            "justify_content": null,
            "justify_items": null,
            "left": null,
            "margin": null,
            "max_height": null,
            "max_width": null,
            "min_height": null,
            "min_width": null,
            "object_fit": null,
            "object_position": null,
            "order": null,
            "overflow": null,
            "overflow_x": null,
            "overflow_y": null,
            "padding": null,
            "right": null,
            "top": null,
            "visibility": null,
            "width": null
          }
        },
        "ac8edcea48d5439f9b42c871849de545": {
          "model_module": "@jupyter-widgets/base",
          "model_module_version": "1.2.0",
          "model_name": "LayoutModel",
          "state": {
            "_model_module": "@jupyter-widgets/base",
            "_model_module_version": "1.2.0",
            "_model_name": "LayoutModel",
            "_view_count": null,
            "_view_module": "@jupyter-widgets/base",
            "_view_module_version": "1.2.0",
            "_view_name": "LayoutView",
            "align_content": null,
            "align_items": null,
            "align_self": null,
            "border": null,
            "bottom": null,
            "display": null,
            "flex": null,
            "flex_flow": null,
            "grid_area": null,
            "grid_auto_columns": null,
            "grid_auto_flow": null,
            "grid_auto_rows": null,
            "grid_column": null,
            "grid_gap": null,
            "grid_row": null,
            "grid_template_areas": null,
            "grid_template_columns": null,
            "grid_template_rows": null,
            "height": null,
            "justify_content": null,
            "justify_items": null,
            "left": null,
            "margin": null,
            "max_height": null,
            "max_width": null,
            "min_height": null,
            "min_width": null,
            "object_fit": null,
            "object_position": null,
            "order": null,
            "overflow": null,
            "overflow_x": null,
            "overflow_y": null,
            "padding": null,
            "right": null,
            "top": null,
            "visibility": null,
            "width": null
          }
        },
        "af341b6b403441e4b353c3105978f49f": {
          "model_module": "@jupyter-widgets/controls",
          "model_module_version": "1.5.0",
          "model_name": "HTMLModel",
          "state": {
            "_dom_classes": [],
            "_model_module": "@jupyter-widgets/controls",
            "_model_module_version": "1.5.0",
            "_model_name": "HTMLModel",
            "_view_count": null,
            "_view_module": "@jupyter-widgets/controls",
            "_view_module_version": "1.5.0",
            "_view_name": "HTMLView",
            "description": "",
            "description_tooltip": null,
            "layout": "IPY_MODEL_f234f72cd47844118c4b2117297158b3",
            "placeholder": "​",
            "style": "IPY_MODEL_8bc7dd2051a74784b45e3df11e479fee",
            "value": "Downloading model.safetensors: 100%"
          }
        },
        "b14c87d39fc3464d87eb3e20484381c6": {
          "model_module": "@jupyter-widgets/base",
          "model_module_version": "1.2.0",
          "model_name": "LayoutModel",
          "state": {
            "_model_module": "@jupyter-widgets/base",
            "_model_module_version": "1.2.0",
            "_model_name": "LayoutModel",
            "_view_count": null,
            "_view_module": "@jupyter-widgets/base",
            "_view_module_version": "1.2.0",
            "_view_name": "LayoutView",
            "align_content": null,
            "align_items": null,
            "align_self": null,
            "border": null,
            "bottom": null,
            "display": null,
            "flex": null,
            "flex_flow": null,
            "grid_area": null,
            "grid_auto_columns": null,
            "grid_auto_flow": null,
            "grid_auto_rows": null,
            "grid_column": null,
            "grid_gap": null,
            "grid_row": null,
            "grid_template_areas": null,
            "grid_template_columns": null,
            "grid_template_rows": null,
            "height": null,
            "justify_content": null,
            "justify_items": null,
            "left": null,
            "margin": null,
            "max_height": null,
            "max_width": null,
            "min_height": null,
            "min_width": null,
            "object_fit": null,
            "object_position": null,
            "order": null,
            "overflow": null,
            "overflow_x": null,
            "overflow_y": null,
            "padding": null,
            "right": null,
            "top": null,
            "visibility": null,
            "width": null
          }
        },
        "b325f827e418441a964167157d1878d1": {
          "model_module": "@jupyter-widgets/controls",
          "model_module_version": "1.5.0",
          "model_name": "FloatProgressModel",
          "state": {
            "_dom_classes": [],
            "_model_module": "@jupyter-widgets/controls",
            "_model_module_version": "1.5.0",
            "_model_name": "FloatProgressModel",
            "_view_count": null,
            "_view_module": "@jupyter-widgets/controls",
            "_view_module_version": "1.5.0",
            "_view_name": "ProgressView",
            "bar_style": "success",
            "description": "",
            "description_tooltip": null,
            "layout": "IPY_MODEL_40fa496a86004fa4852f405dbef3fb0b",
            "max": 1154,
            "min": 0,
            "orientation": "horizontal",
            "style": "IPY_MODEL_a6dfabf2e6104388b8179e9249492108",
            "value": 1154
          }
        },
        "b77a39e4c0b84595950b887e534878d7": {
          "model_module": "@jupyter-widgets/controls",
          "model_module_version": "1.5.0",
          "model_name": "DescriptionStyleModel",
          "state": {
            "_model_module": "@jupyter-widgets/controls",
            "_model_module_version": "1.5.0",
            "_model_name": "DescriptionStyleModel",
            "_view_count": null,
            "_view_module": "@jupyter-widgets/base",
            "_view_module_version": "1.2.0",
            "_view_name": "StyleView",
            "description_width": ""
          }
        },
        "dc83a9c3bb3a4425bc93fb2f0b102703": {
          "model_module": "@jupyter-widgets/controls",
          "model_module_version": "1.5.0",
          "model_name": "FloatProgressModel",
          "state": {
            "_dom_classes": [],
            "_model_module": "@jupyter-widgets/controls",
            "_model_module_version": "1.5.0",
            "_model_name": "FloatProgressModel",
            "_view_count": null,
            "_view_module": "@jupyter-widgets/controls",
            "_view_module_version": "1.5.0",
            "_view_name": "ProgressView",
            "bar_style": "success",
            "description": "",
            "description_tooltip": null,
            "layout": "IPY_MODEL_eda82ffdda274f16b74cef52d7ecd225",
            "max": 898822,
            "min": 0,
            "orientation": "horizontal",
            "style": "IPY_MODEL_212547ecda8d4c0c90018171ae16206c",
            "value": 898822
          }
        },
        "e01a5d0a4c604d74941956d0c837e662": {
          "model_module": "@jupyter-widgets/base",
          "model_module_version": "1.2.0",
          "model_name": "LayoutModel",
          "state": {
            "_model_module": "@jupyter-widgets/base",
            "_model_module_version": "1.2.0",
            "_model_name": "LayoutModel",
            "_view_count": null,
            "_view_module": "@jupyter-widgets/base",
            "_view_module_version": "1.2.0",
            "_view_name": "LayoutView",
            "align_content": null,
            "align_items": null,
            "align_self": null,
            "border": null,
            "bottom": null,
            "display": null,
            "flex": null,
            "flex_flow": null,
            "grid_area": null,
            "grid_auto_columns": null,
            "grid_auto_flow": null,
            "grid_auto_rows": null,
            "grid_column": null,
            "grid_gap": null,
            "grid_row": null,
            "grid_template_areas": null,
            "grid_template_columns": null,
            "grid_template_rows": null,
            "height": null,
            "justify_content": null,
            "justify_items": null,
            "left": null,
            "margin": null,
            "max_height": null,
            "max_width": null,
            "min_height": null,
            "min_width": null,
            "object_fit": null,
            "object_position": null,
            "order": null,
            "overflow": null,
            "overflow_x": null,
            "overflow_y": null,
            "padding": null,
            "right": null,
            "top": null,
            "visibility": null,
            "width": null
          }
        },
        "e29677c6c58342a4bf95c7b11847bebd": {
          "model_module": "@jupyter-widgets/controls",
          "model_module_version": "1.5.0",
          "model_name": "HBoxModel",
          "state": {
            "_dom_classes": [],
            "_model_module": "@jupyter-widgets/controls",
            "_model_module_version": "1.5.0",
            "_model_name": "HBoxModel",
            "_view_count": null,
            "_view_module": "@jupyter-widgets/controls",
            "_view_module_version": "1.5.0",
            "_view_name": "HBoxView",
            "box_style": "",
            "children": [
              "IPY_MODEL_2b160ba90ae54cd3bc85fc7f099b1fd4",
              "IPY_MODEL_a9156bbc2d8b409093c75e201d5e7993",
              "IPY_MODEL_4a3e92c360d24c2298dcfbf978ed5a03"
            ],
            "layout": "IPY_MODEL_ac8edcea48d5439f9b42c871849de545"
          }
        },
        "eda82ffdda274f16b74cef52d7ecd225": {
          "model_module": "@jupyter-widgets/base",
          "model_module_version": "1.2.0",
          "model_name": "LayoutModel",
          "state": {
            "_model_module": "@jupyter-widgets/base",
            "_model_module_version": "1.2.0",
            "_model_name": "LayoutModel",
            "_view_count": null,
            "_view_module": "@jupyter-widgets/base",
            "_view_module_version": "1.2.0",
            "_view_name": "LayoutView",
            "align_content": null,
            "align_items": null,
            "align_self": null,
            "border": null,
            "bottom": null,
            "display": null,
            "flex": null,
            "flex_flow": null,
            "grid_area": null,
            "grid_auto_columns": null,
            "grid_auto_flow": null,
            "grid_auto_rows": null,
            "grid_column": null,
            "grid_gap": null,
            "grid_row": null,
            "grid_template_areas": null,
            "grid_template_columns": null,
            "grid_template_rows": null,
            "height": null,
            "justify_content": null,
            "justify_items": null,
            "left": null,
            "margin": null,
            "max_height": null,
            "max_width": null,
            "min_height": null,
            "min_width": null,
            "object_fit": null,
            "object_position": null,
            "order": null,
            "overflow": null,
            "overflow_x": null,
            "overflow_y": null,
            "padding": null,
            "right": null,
            "top": null,
            "visibility": null,
            "width": null
          }
        },
        "f234f72cd47844118c4b2117297158b3": {
          "model_module": "@jupyter-widgets/base",
          "model_module_version": "1.2.0",
          "model_name": "LayoutModel",
          "state": {
            "_model_module": "@jupyter-widgets/base",
            "_model_module_version": "1.2.0",
            "_model_name": "LayoutModel",
            "_view_count": null,
            "_view_module": "@jupyter-widgets/base",
            "_view_module_version": "1.2.0",
            "_view_name": "LayoutView",
            "align_content": null,
            "align_items": null,
            "align_self": null,
            "border": null,
            "bottom": null,
            "display": null,
            "flex": null,
            "flex_flow": null,
            "grid_area": null,
            "grid_auto_columns": null,
            "grid_auto_flow": null,
            "grid_auto_rows": null,
            "grid_column": null,
            "grid_gap": null,
            "grid_row": null,
            "grid_template_areas": null,
            "grid_template_columns": null,
            "grid_template_rows": null,
            "height": null,
            "justify_content": null,
            "justify_items": null,
            "left": null,
            "margin": null,
            "max_height": null,
            "max_width": null,
            "min_height": null,
            "min_width": null,
            "object_fit": null,
            "object_position": null,
            "order": null,
            "overflow": null,
            "overflow_x": null,
            "overflow_y": null,
            "padding": null,
            "right": null,
            "top": null,
            "visibility": null,
            "width": null
          }
        },
        "f40e05d596c64ec190031a19ef11b1dc": {
          "model_module": "@jupyter-widgets/base",
          "model_module_version": "1.2.0",
          "model_name": "LayoutModel",
          "state": {
            "_model_module": "@jupyter-widgets/base",
            "_model_module_version": "1.2.0",
            "_model_name": "LayoutModel",
            "_view_count": null,
            "_view_module": "@jupyter-widgets/base",
            "_view_module_version": "1.2.0",
            "_view_name": "LayoutView",
            "align_content": null,
            "align_items": null,
            "align_self": null,
            "border": null,
            "bottom": null,
            "display": null,
            "flex": null,
            "flex_flow": null,
            "grid_area": null,
            "grid_auto_columns": null,
            "grid_auto_flow": null,
            "grid_auto_rows": null,
            "grid_column": null,
            "grid_gap": null,
            "grid_row": null,
            "grid_template_areas": null,
            "grid_template_columns": null,
            "grid_template_rows": null,
            "height": null,
            "justify_content": null,
            "justify_items": null,
            "left": null,
            "margin": null,
            "max_height": null,
            "max_width": null,
            "min_height": null,
            "min_width": null,
            "object_fit": null,
            "object_position": null,
            "order": null,
            "overflow": null,
            "overflow_x": null,
            "overflow_y": null,
            "padding": null,
            "right": null,
            "top": null,
            "visibility": null,
            "width": null
          }
        },
        "f74cef626fce46f0a193804007fc3a08": {
          "model_module": "@jupyter-widgets/base",
          "model_module_version": "1.2.0",
          "model_name": "LayoutModel",
          "state": {
            "_model_module": "@jupyter-widgets/base",
            "_model_module_version": "1.2.0",
            "_model_name": "LayoutModel",
            "_view_count": null,
            "_view_module": "@jupyter-widgets/base",
            "_view_module_version": "1.2.0",
            "_view_name": "LayoutView",
            "align_content": null,
            "align_items": null,
            "align_self": null,
            "border": null,
            "bottom": null,
            "display": null,
            "flex": null,
            "flex_flow": null,
            "grid_area": null,
            "grid_auto_columns": null,
            "grid_auto_flow": null,
            "grid_auto_rows": null,
            "grid_column": null,
            "grid_gap": null,
            "grid_row": null,
            "grid_template_areas": null,
            "grid_template_columns": null,
            "grid_template_rows": null,
            "height": null,
            "justify_content": null,
            "justify_items": null,
            "left": null,
            "margin": null,
            "max_height": null,
            "max_width": null,
            "min_height": null,
            "min_width": null,
            "object_fit": null,
            "object_position": null,
            "order": null,
            "overflow": null,
            "overflow_x": null,
            "overflow_y": null,
            "padding": null,
            "right": null,
            "top": null,
            "visibility": null,
            "width": null
          }
        },
        "f7996d04666244d1aa6fa2ab9e07b1fb": {
          "model_module": "@jupyter-widgets/controls",
          "model_module_version": "1.5.0",
          "model_name": "HTMLModel",
          "state": {
            "_dom_classes": [],
            "_model_module": "@jupyter-widgets/controls",
            "_model_module_version": "1.5.0",
            "_model_name": "HTMLModel",
            "_view_count": null,
            "_view_module": "@jupyter-widgets/controls",
            "_view_module_version": "1.5.0",
            "_view_name": "HTMLView",
            "description": "",
            "description_tooltip": null,
            "layout": "IPY_MODEL_1e2bec2f68594106bb88d5fb8fe97232",
            "placeholder": "​",
            "style": "IPY_MODEL_1a6355f19b504de3bbaec79cccb7a004",
            "value": "Downloading (…)lve/main/config.json: 100%"
          }
        },
        "f79d269f32fe413f8c5c1512fd4a9419": {
          "model_module": "@jupyter-widgets/controls",
          "model_module_version": "1.5.0",
          "model_name": "HBoxModel",
          "state": {
            "_dom_classes": [],
            "_model_module": "@jupyter-widgets/controls",
            "_model_module_version": "1.5.0",
            "_model_name": "HBoxModel",
            "_view_count": null,
            "_view_module": "@jupyter-widgets/controls",
            "_view_module_version": "1.5.0",
            "_view_name": "HBoxView",
            "box_style": "",
            "children": [
              "IPY_MODEL_a22692f0ef3b4919987eadb6645f5aff",
              "IPY_MODEL_f968bf16ccf344189e85747cf1d6e337",
              "IPY_MODEL_459e2c18e0f84174b5d8fb8fdff45619"
            ],
            "layout": "IPY_MODEL_b14c87d39fc3464d87eb3e20484381c6"
          }
        },
        "f84b615c2a544674b269e0b104526dda": {
          "model_module": "@jupyter-widgets/controls",
          "model_module_version": "1.5.0",
          "model_name": "HBoxModel",
          "state": {
            "_dom_classes": [],
            "_model_module": "@jupyter-widgets/controls",
            "_model_module_version": "1.5.0",
            "_model_name": "HBoxModel",
            "_view_count": null,
            "_view_module": "@jupyter-widgets/controls",
            "_view_module_version": "1.5.0",
            "_view_name": "HBoxView",
            "box_style": "",
            "children": [
              "IPY_MODEL_76077d55a1dc4dcb9fc1286a346cb0c7",
              "IPY_MODEL_75a70bac4a26483eb593cde834c79b07",
              "IPY_MODEL_22611f5351674de697f36f943d3119a2"
            ],
            "layout": "IPY_MODEL_09c8a1dee7cf43a69a3d7f51258bf9fb"
          }
        },
        "f968bf16ccf344189e85747cf1d6e337": {
          "model_module": "@jupyter-widgets/controls",
          "model_module_version": "1.5.0",
          "model_name": "FloatProgressModel",
          "state": {
            "_dom_classes": [],
            "_model_module": "@jupyter-widgets/controls",
            "_model_module_version": "1.5.0",
            "_model_name": "FloatProgressModel",
            "_view_count": null,
            "_view_module": "@jupyter-widgets/controls",
            "_view_module_version": "1.5.0",
            "_view_name": "ProgressView",
            "bar_style": "success",
            "description": "",
            "description_tooltip": null,
            "layout": "IPY_MODEL_f40e05d596c64ec190031a19ef11b1dc",
            "max": 456318,
            "min": 0,
            "orientation": "horizontal",
            "style": "IPY_MODEL_4bccd1a939b346b78dbcfd2467066088",
            "value": 456318
          }
        },
        "f9d43ab9431b4274a958227d247ca2ab": {
          "model_module": "@jupyter-widgets/controls",
          "model_module_version": "1.5.0",
          "model_name": "HTMLModel",
          "state": {
            "_dom_classes": [],
            "_model_module": "@jupyter-widgets/controls",
            "_model_module_version": "1.5.0",
            "_model_name": "HTMLModel",
            "_view_count": null,
            "_view_module": "@jupyter-widgets/controls",
            "_view_module_version": "1.5.0",
            "_view_name": "HTMLView",
            "description": "",
            "description_tooltip": null,
            "layout": "IPY_MODEL_aad43f343fd64616980e73924ebcc59b",
            "placeholder": "​",
            "style": "IPY_MODEL_8d12f21a0fa84be48c89c6b0f17a179d",
            "value": " 1.15k/1.15k [00:00&lt;00:00, 81.5kB/s]"
          }
        },
        "ff575f1615ab4fee9b439b7cf6c6f438": {
          "model_module": "@jupyter-widgets/base",
          "model_module_version": "1.2.0",
          "model_name": "LayoutModel",
          "state": {
            "_model_module": "@jupyter-widgets/base",
            "_model_module_version": "1.2.0",
            "_model_name": "LayoutModel",
            "_view_count": null,
            "_view_module": "@jupyter-widgets/base",
            "_view_module_version": "1.2.0",
            "_view_name": "LayoutView",
            "align_content": null,
            "align_items": null,
            "align_self": null,
            "border": null,
            "bottom": null,
            "display": null,
            "flex": null,
            "flex_flow": null,
            "grid_area": null,
            "grid_auto_columns": null,
            "grid_auto_flow": null,
            "grid_auto_rows": null,
            "grid_column": null,
            "grid_gap": null,
            "grid_row": null,
            "grid_template_areas": null,
            "grid_template_columns": null,
            "grid_template_rows": null,
            "height": null,
            "justify_content": null,
            "justify_items": null,
            "left": null,
            "margin": null,
            "max_height": null,
            "max_width": null,
            "min_height": null,
            "min_width": null,
            "object_fit": null,
            "object_position": null,
            "order": null,
            "overflow": null,
            "overflow_x": null,
            "overflow_y": null,
            "padding": null,
            "right": null,
            "top": null,
            "visibility": null,
            "width": null
          }
        }
      }
    }
  },
  "nbformat": 4,
  "nbformat_minor": 5
}
